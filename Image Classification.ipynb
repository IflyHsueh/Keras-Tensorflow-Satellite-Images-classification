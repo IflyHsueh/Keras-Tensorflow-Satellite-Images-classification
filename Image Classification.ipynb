{
 "cells": [
  {
   "cell_type": "code",
   "execution_count": 1,
   "metadata": {
    "_cell_guid": "d643450f-cd1a-4ccf-bcc1-a5d89be2a87d",
    "_uuid": "097b3571e1fec1c905b6337b785a2ebfe720909d"
   },
   "outputs": [
    {
     "name": "stderr",
     "output_type": "stream",
     "text": [
      "/opt/conda/lib/python3.6/site-packages/h5py/__init__.py:36: FutureWarning: Conversion of the second argument of issubdtype from `float` to `np.floating` is deprecated. In future, it will be treated as `np.float64 == np.dtype(float).type`.\n",
      "  from ._conv import register_converters as _register_converters\n",
      "Using TensorFlow backend.\n"
     ]
    }
   ],
   "source": [
    "import numpy as np # linear algebra\n",
    "import pandas as pd # data processing, CSV file I/O (e.g. pd.read_csv)\n",
    "import matplotlib.pyplot as plt # visualize satellite images\n",
    "from skimage.io import imshow # visualize satellite images\n",
    "\n",
    "from keras.layers import Dense # components of network\n",
    "from keras.models import Sequential # type of model"
   ]
  },
  {
   "cell_type": "code",
   "execution_count": 2,
   "metadata": {
    "_cell_guid": "84de5c3c-6690-4c18-b3c7-5d557f8057f3",
    "_uuid": "d36a77ede3160415fd04c3251f4592fdd26a4389"
   },
   "outputs": [
    {
     "name": "stdout",
     "output_type": "stream",
     "text": [
      "Loading Training Data\n",
      "Loaded 28 x 28 x 4 images\n",
      "Loaded labels\n",
      "We have 99999 examples and each example is a list of 3136 numbers with 4 possible classifications.\n",
      "(99999, 28, 28, 4)\n"
     ]
    }
   ],
   "source": [
    "x_train_set_fpath = '../input/X_test_sat4.csv'\n",
    "y_train_set_fpath = '../input/y_test_sat4.csv'\n",
    "print ('Loading Training Data')\n",
    "X_train = pd.read_csv(x_train_set_fpath)\n",
    "print ('Loaded 28 x 28 x 4 images')\n",
    "Y_train = pd.read_csv(y_train_set_fpath)\n",
    "print ('Loaded labels')\n",
    "\n",
    "X_train = X_train.as_matrix()\n",
    "Y_train = Y_train.as_matrix()\n",
    "print ('We have',X_train.shape[0],'examples and each example is a list of',X_train.shape[1],'numbers with',Y_train.shape[1],'possible classifications.')\n",
    "\n",
    "#First we have to reshape each of them from a list of numbers to a 28*28*4 image.\n",
    "X_train_img = X_train.reshape([99999,28,28,4]).astype(float)\n",
    "print (X_train_img.shape)"
   ]
  },
  {
   "cell_type": "code",
   "execution_count": 5,
   "metadata": {
    "_cell_guid": "998a1070-8550-4b11-90e6-bb06f9ab3283",
    "_uuid": "ec8ad671ea261b2f29151ce11ffa4968c3874d45"
   },
   "outputs": [
    {
     "name": "stderr",
     "output_type": "stream",
     "text": [
      "/opt/conda/lib/python3.6/site-packages/skimage/io/_plugins/matplotlib_plugin.py:51: FutureWarning: Conversion of the second argument of issubdtype from `float` to `np.floating` is deprecated. In future, it will be treated as `np.float64 == np.dtype(float).type`.\n",
      "  out_of_range_float = (np.issubdtype(image.dtype, np.float) and\n",
      "/opt/conda/lib/python3.6/site-packages/skimage/io/_plugins/matplotlib_plugin.py:77: UserWarning: Float image out of standard range; displaying image with stretched contrast.\n",
      "  warn(\"Float image out of standard range; displaying \"\n"
     ]
    },
    {
     "data": {
      "image/png": "[encoded data removed]",
      "text/plain": [
       "<matplotlib.figure.Figure at 0x7fd9dec1cef0>"
      ]
     },
     "metadata": {},
     "output_type": "display_data"
    },
    {
     "name": "stdout",
     "output_type": "stream",
     "text": [
      "Grassland\n"
     ]
    }
   ],
   "source": [
    "#Let's take a look at one image. Keep in mind the channels are R,G,B, and I(Infrared)\n",
    "ix = 34#Type a number between 0 and 99,999 inclusive\n",
    "imshow(np.squeeze(X_train_img[ix,:,:,0:3]).astype(float)) #Only seeing the RGB channels\n",
    "plt.show()\n",
    "#Tells what the image is\n",
    "if Y_train[ix,0] == 1:\n",
    "    print ('Barren Land')\n",
    "elif Y_train[ix,1] == 1:\n",
    "    print ('Trees')\n",
    "elif Y_train[ix,2] == 1:\n",
    "    print ('Grassland')\n",
    "else:\n",
    "    print ('Other')"
   ]
  },
  {
   "cell_type": "code",
   "execution_count": 7,
   "metadata": {
    "_cell_guid": "0df836d8-bbc7-4f99-a861-8417406d39b2",
    "_uuid": "487b2b6090a96103554842e3fea4b149c0b50a6f",
    "collapsed": true
   },
   "outputs": [],
   "source": [
    "model = Sequential([\n",
    "    Dense(4, input_shape=(3136,), activation='softmax')\n",
    "])"
   ]
  },
  {
   "cell_type": "code",
   "execution_count": 8,
   "metadata": {
    "_cell_guid": "5ba4b893-507b-41e4-a29c-0724c6e52a03",
    "_uuid": "f4cd3f67201604dd490aa70d288c95c982652a93",
    "collapsed": true
   },
   "outputs": [],
   "source": [
    "X_train = (X_train-X_train.mean())/X_train.std()"
   ]
  },
  {
   "cell_type": "code",
   "execution_count": 9,
   "metadata": {
    "_cell_guid": "5fccbd72-dbc9-4a24-b831-f3dc23f05710",
    "_uuid": "9a969c2491e57ae5faea7dd2ffb3cc3d8e4cb585"
   },
   "outputs": [
    {
     "name": "stdout",
     "output_type": "stream",
     "text": [
      "_________________________________________________________________\n",
      "Layer (type)                 Output Shape              Param #   \n",
      "=================================================================\n",
      "dense_2 (Dense)              (None, 4)                 12548     \n",
      "=================================================================\n",
      "Total params: 12,548\n",
      "Trainable params: 12,548\n",
      "Non-trainable params: 0\n",
      "_________________________________________________________________\n",
      "Train on 98999 samples, validate on 1000 samples\n",
      "Epoch 1/5\n",
      "98999/98999 [==============================] - 34s 340us/step - loss: 0.9499 - acc: 0.6093 - val_loss: 0.7953 - val_acc: 0.6360\n",
      "Epoch 2/5\n",
      "98999/98999 [==============================] - 35s 355us/step - loss: 0.7621 - acc: 0.6859 - val_loss: 0.7599 - val_acc: 0.7140\n",
      "Epoch 3/5\n",
      "98999/98999 [==============================] - 33s 335us/step - loss: 0.7233 - acc: 0.7050 - val_loss: 0.7351 - val_acc: 0.7200\n",
      "Epoch 4/5\n",
      "98999/98999 [==============================] - 32s 328us/step - loss: 0.7002 - acc: 0.7190 - val_loss: 0.6253 - val_acc: 0.7340\n",
      "Epoch 5/5\n",
      "98999/98999 [==============================] - 31s 316us/step - loss: 0.6892 - acc: 0.7247 - val_loss: 0.7173 - val_acc: 0.7050\n"
     ]
    },
    {
     "data": {
      "text/plain": [
       "<keras.callbacks.History at 0x7fd9d4d9d6d8>"
      ]
     },
     "execution_count": 9,
     "metadata": {},
     "output_type": "execute_result"
    }
   ],
   "source": [
    "model.compile(optimizer='adam', loss='categorical_crossentropy', metrics=['accuracy'])\n",
    "model.summary()\n",
    "model.fit(X_train,Y_train,batch_size=32, epochs=5, verbose=1, validation_split=0.01)"
   ]
  },
  {
   "cell_type": "code",
   "execution_count": 10,
   "metadata": {
    "_cell_guid": "606c6b48-bf18-488e-bfe5-846c3deb3cf0",
    "_uuid": "ad8a6edc83e93fcb1b3c06096c4161b405ff32f4"
   },
   "outputs": [
    {
     "name": "stdout",
     "output_type": "stream",
     "text": [
      "1000/1000 [==============================] - 0s 109us/step\n"
     ]
    }
   ],
   "source": [
    "preds = model.predict(X_train[-1000:], verbose=1)"
   ]
  },
  {
   "cell_type": "code",
   "execution_count": 14,
   "metadata": {
    "_cell_guid": "c1acf026-5430-47cf-bc1f-888178bcd607",
    "_uuid": "a0c33e4067004e36528f7dc15b8d611d9745fdeb"
   },
   "outputs": [
    {
     "name": "stderr",
     "output_type": "stream",
     "text": [
      "/opt/conda/lib/python3.6/site-packages/skimage/io/_plugins/matplotlib_plugin.py:51: FutureWarning: Conversion of the second argument of issubdtype from `float` to `np.floating` is deprecated. In future, it will be treated as `np.float64 == np.dtype(float).type`.\n",
      "  out_of_range_float = (np.issubdtype(image.dtype, np.float) and\n",
      "/opt/conda/lib/python3.6/site-packages/skimage/io/_plugins/matplotlib_plugin.py:77: UserWarning: Float image out of standard range; displaying image with stretched contrast.\n",
      "  warn(\"Float image out of standard range; displaying \"\n"
     ]
    },
    {
     "data": {
      "image/png": "[encoded data removed]",
      "text/plain": [
       "<matplotlib.figure.Figure at 0x7fd9d992ed68>"
      ]
     },
     "metadata": {},
     "output_type": "display_data"
    },
    {
     "name": "stdout",
     "output_type": "stream",
     "text": [
      "Prediction:\n",
      "98.1% probability barren land,\n",
      "0.0% probability trees,\n",
      "1.3% probability grassland,\n",
      "0.6% probability other\n",
      "\n",
      "Ground Truth: Barren Land\n"
     ]
    }
   ],
   "source": [
    "ix = 997 #Type a number between 0 and 999 inclusive\n",
    "imshow(np.squeeze(X_train_img[99999-(1000-ix),:,:,0:3]).astype(float)*255) #Only seeing the RGB channels\n",
    "plt.show()\n",
    "#Tells what the image is\n",
    "print ('Prediction:\\n{:.1f}% probability barren land,\\n{:.1f}% probability trees,\\n{:.1f}% probability grassland,\\n{:.1f}% probability other\\n'.format(preds[ix,0]*100,preds[ix,1]*100,preds[ix,2]*100,preds[ix,3]*100))\n",
    "\n",
    "print ('Ground Truth: ',end='')\n",
    "if Y_train[99999-(1000-ix),0] == 1:\n",
    "    print ('Barren Land')\n",
    "elif Y_train[99999-(1000-ix),1] == 1:\n",
    "    print ('Trees')\n",
    "elif Y_train[99999-(1000-ix),2] == 1:\n",
    "    print ('Grassland')\n",
    "else:\n",
    "    print ('Other')"
   ]
  },
  {
   "cell_type": "code",
   "execution_count": null,
   "metadata": {
    "_cell_guid": "42bde5d3-cebc-4157-a289-0e4917f8dcec",
    "_uuid": "e48ac304da5b9bfedfa2a078aa8105e6a7726915",
    "collapsed": true
   },
   "outputs": [],
   "source": []
  }
 ],
 "metadata": {
  "kernelspec": {
   "display_name": "Python 3",
   "language": "python",
   "name": "python3"
  },
  "language_info": {
   "codemirror_mode": {
    "name": "ipython",
    "version": 3
   },
   "file_extension": ".py",
   "mimetype": "text/x-python",
   "name": "python",
   "nbconvert_exporter": "python",
   "pygments_lexer": "ipython3",
   "version": "3.6.3"
  }
 },
 "nbformat": 4,
 "nbformat_minor": 1
}
