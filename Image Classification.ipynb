{
  "cells": [
    {
      "metadata": {
        "_cell_guid": "d643450f-cd1a-4ccf-bcc1-a5d89be2a87d",
        "_uuid": "097b3571e1fec1c905b6337b785a2ebfe720909d",
        "trusted": true
      },
      "cell_type": "code",
      "source": "# Importing Libraries for reading data \nimport numpy as np \nimport pandas as pd \n\n# For visuzlizing images\nimport matplotlib.pyplot as plt \nfrom skimage.io import imshow \n\n# Importing keras sequential model (See readme for details)\nfrom keras.layers import Dense \nfrom keras.models import Sequential \nfrom keras.layers import Dense, Activation\n",
      "execution_count": 1,
      "outputs": [
        {
          "output_type": "stream",
          "text": "Using TensorFlow backend.\n",
          "name": "stderr"
        }
      ]
    },
    {
      "metadata": {
        "_cell_guid": "84de5c3c-6690-4c18-b3c7-5d557f8057f3",
        "_uuid": "d36a77ede3160415fd04c3251f4592fdd26a4389",
        "trusted": true
      },
      "cell_type": "code",
      "source": "# Loading data files for training\n\nprint ('Loading training data')\nX_train_sat4 = '../input/X_test_sat4.csv'\ny_train_sat4 = '../input/y_test_sat4.csv'\n\n# Loading data to pandas dataframe\nX_train = pd.read_csv(X_train_sat4)\nY_train = pd.read_csv(y_train_sat4)\nX_train = X_train.as_matrix()\nY_train = Y_train.as_matrix()\n\nprint(\"Number of training examples are\",X_train.shape[0])\n\n#Reshaping the input to convert into a list for further processing\nX_train_img = X_train.reshape([X_train.shape[0],28,28,4]).astype(float)",
      "execution_count": 3,
      "outputs": [
        {
          "output_type": "stream",
          "text": "Loading training data\n",
          "name": "stdout"
        },
        {
          "output_type": "stream",
          "text": "/opt/conda/lib/python3.6/site-packages/ipykernel_launcher.py:10: FutureWarning: Method .as_matrix will be removed in a future version. Use .values instead.\n  # Remove the CWD from sys.path while we load stuff.\n/opt/conda/lib/python3.6/site-packages/ipykernel_launcher.py:11: FutureWarning: Method .as_matrix will be removed in a future version. Use .values instead.\n  # This is added back by InteractiveShellApp.init_path()\n",
          "name": "stderr"
        },
        {
          "output_type": "stream",
          "text": "Number of training examples are 99999\n",
          "name": "stdout"
        }
      ]
    },
    {
      "metadata": {
        "_cell_guid": "0df836d8-bbc7-4f99-a861-8417406d39b2",
        "_uuid": "487b2b6090a96103554842e3fea4b149c0b50a6f",
        "trusted": true,
        "collapsed": true
      },
      "cell_type": "code",
      "source": "# Sequential model in Keras is a linear stack of layers. Sequential model could be created by passing a list of layer instances to the constructor.\nmodel = Sequential()\nmodel.add(Dense(4, input_dim=3136))\nmodel.add(Activation('selu'))\n",
      "execution_count": 13,
      "outputs": []
    },
    {
      "metadata": {
        "_cell_guid": "5ba4b893-507b-41e4-a29c-0724c6e52a03",
        "_uuid": "f4cd3f67201604dd490aa70d288c95c982652a93",
        "collapsed": true,
        "trusted": true
      },
      "cell_type": "code",
      "source": "X_train = (X_train-X_train.mean())/X_train.std()",
      "execution_count": 5,
      "outputs": []
    },
    {
      "metadata": {
        "_cell_guid": "5fccbd72-dbc9-4a24-b831-f3dc23f05710",
        "_uuid": "9a969c2491e57ae5faea7dd2ffb3cc3d8e4cb585",
        "trusted": true
      },
      "cell_type": "code",
      "source": "model.compile(optimizer='adam', loss='categorical_crossentropy', metrics=['accuracy'])\nmodel.summary()\nmodel.fit(X_train,Y_train,batch_size=32, epochs=5, verbose=1, validation_split=0.02)",
      "execution_count": 14,
      "outputs": [
        {
          "output_type": "stream",
          "text": "_________________________________________________________________\nLayer (type)                 Output Shape              Param #   \n=================================================================\ndense_5 (Dense)              (None, 4)                 12548     \n_________________________________________________________________\nactivation_5 (Activation)    (None, 4)                 0         \n=================================================================\nTotal params: 12,548\nTrainable params: 12,548\nNon-trainable params: 0\n_________________________________________________________________\nTrain on 97999 samples, validate on 2000 samples\nEpoch 1/5\n97999/97999 [==============================] - 48s 492us/step - loss: 2.4799 - acc: 0.5299 - val_loss: 1.9268 - val_acc: 0.5190\nEpoch 2/5\n97999/97999 [==============================] - 43s 439us/step - loss: 1.6352 - acc: 0.5703 - val_loss: 1.7196 - val_acc: 0.5470\nEpoch 3/5\n97999/97999 [==============================] - 48s 488us/step - loss: 1.8387 - acc: 0.5694 - val_loss: 1.8860 - val_acc: 0.5905\nEpoch 4/5\n97999/97999 [==============================] - 46s 469us/step - loss: 1.6097 - acc: 0.5789 - val_loss: 1.6701 - val_acc: 0.5725\nEpoch 5/5\n97999/97999 [==============================] - 48s 489us/step - loss: 1.5817 - acc: 0.5939 - val_loss: 1.7571 - val_acc: 0.5725\n",
          "name": "stdout"
        },
        {
          "output_type": "execute_result",
          "execution_count": 14,
          "data": {
            "text/plain": "<keras.callbacks.History at 0x7fd1eaff4748>"
          },
          "metadata": {}
        }
      ]
    },
    {
      "metadata": {
        "_cell_guid": "42bde5d3-cebc-4157-a289-0e4917f8dcec",
        "_uuid": "e48ac304da5b9bfedfa2a078aa8105e6a7726915",
        "collapsed": true,
        "trusted": false
      },
      "cell_type": "code",
      "source": "",
      "execution_count": null,
      "outputs": []
    }
  ],
  "metadata": {
    "language_info": {
      "name": "python",
      "version": "3.6.5",
      "mimetype": "text/x-python",
      "codemirror_mode": {
        "name": "ipython",
        "version": 3
      },
      "pygments_lexer": "ipython3",
      "nbconvert_exporter": "python",
      "file_extension": ".py"
    },
    "kernelspec": {
      "display_name": "Python 3",
      "language": "python",
      "name": "python3"
    }
  },
  "nbformat": 4,
  "nbformat_minor": 1
}