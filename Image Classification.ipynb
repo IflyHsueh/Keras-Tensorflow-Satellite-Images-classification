{
 "cells": [
  {
   "cell_type": "markdown",
   "metadata": {},
   "source": [
    "## Project Description\n",
    "This project aims to analyze the dataset using neural networks to classify the images into either of following class – barren land, forest, grassland and others."
   ]
  },
  {
   "cell_type": "code",
   "execution_count": 1,
   "metadata": {
    "_cell_guid": "d643450f-cd1a-4ccf-bcc1-a5d89be2a87d",
    "_uuid": "097b3571e1fec1c905b6337b785a2ebfe720909d"
   },
   "outputs": [
    {
     "name": "stderr",
     "output_type": "stream",
     "text": [
      "Using TensorFlow backend.\n"
     ]
    }
   ],
   "source": [
    "# Importing Libraries for reading data \n",
    "import numpy as np \n",
    "import pandas as pd \n",
    "\n",
    "# For visuzlizing images\n",
    "import matplotlib.pyplot as plt \n",
    "from skimage.io import imshow \n",
    "\n",
    "# Importing keras sequential model (See readme for details)\n",
    "from keras.layers import Dense \n",
    "from keras.models import Sequential \n",
    "from keras.layers import Dense, Activation\n"
   ]
  },
  {
   "cell_type": "code",
   "execution_count": 3,
   "metadata": {
    "_cell_guid": "84de5c3c-6690-4c18-b3c7-5d557f8057f3",
    "_uuid": "d36a77ede3160415fd04c3251f4592fdd26a4389"
   },
   "outputs": [
    {
     "name": "stdout",
     "output_type": "stream",
     "text": [
      "Loading training data\n"
     ]
    },
    {
     "name": "stderr",
     "output_type": "stream",
     "text": [
      "/opt/conda/lib/python3.6/site-packages/ipykernel_launcher.py:10: FutureWarning: Method .as_matrix will be removed in a future version. Use .values instead.\n",
      "  # Remove the CWD from sys.path while we load stuff.\n",
      "/opt/conda/lib/python3.6/site-packages/ipykernel_launcher.py:11: FutureWarning: Method .as_matrix will be removed in a future version. Use .values instead.\n",
      "  # This is added back by InteractiveShellApp.init_path()\n"
     ]
    },
    {
     "name": "stdout",
     "output_type": "stream",
     "text": [
      "Number of training examples are 99999\n"
     ]
    }
   ],
   "source": [
    "# Loading data files for training\n",
    "\n",
    "print ('Loading training data')\n",
    "X_train_sat4 = '../input/X_test_sat4.csv'\n",
    "y_train_sat4 = '../input/y_test_sat4.csv'\n",
    "\n",
    "# Loading data to pandas dataframe\n",
    "X_train = pd.read_csv(X_train_sat4)\n",
    "Y_train = pd.read_csv(y_train_sat4)\n",
    "X_train = X_train.as_matrix()\n",
    "Y_train = Y_train.as_matrix()\n",
    "\n",
    "print(\"Number of training examples are\",X_train.shape[0])\n",
    "\n",
    "#Reshaping the input to convert into a list for further processing\n",
    "X_train_img = X_train.reshape([X_train.shape[0],28,28,4]).astype(float)"
   ]
  },
  {
   "cell_type": "code",
   "execution_count": 13,
   "metadata": {
    "_cell_guid": "0df836d8-bbc7-4f99-a861-8417406d39b2",
    "_uuid": "487b2b6090a96103554842e3fea4b149c0b50a6f",
    "collapsed": true
   },
   "outputs": [],
   "source": [
    "# Sequential model in Keras is a linear stack of layers. Sequential model could be created by passing a list of layer instances to the constructor.\n",
    "model = Sequential()\n",
    "model.add(Dense(4, input_dim=3136))\n",
    "model.add(Activation('selu'))\n"
   ]
  },
  {
   "cell_type": "code",
   "execution_count": 5,
   "metadata": {
    "_cell_guid": "5ba4b893-507b-41e4-a29c-0724c6e52a03",
    "_uuid": "f4cd3f67201604dd490aa70d288c95c982652a93",
    "collapsed": true
   },
   "outputs": [],
   "source": [
    "X_train = (X_train-X_train.mean())/X_train.std()"
   ]
  },
  {
   "cell_type": "code",
   "execution_count": 14,
   "metadata": {
    "_cell_guid": "5fccbd72-dbc9-4a24-b831-f3dc23f05710",
    "_uuid": "9a969c2491e57ae5faea7dd2ffb3cc3d8e4cb585"
   },
   "outputs": [
    {
     "name": "stdout",
     "output_type": "stream",
     "text": [
      "_________________________________________________________________\n",
      "Layer (type)                 Output Shape              Param #   \n",
      "=================================================================\n",
      "dense_5 (Dense)              (None, 4)                 12548     \n",
      "_________________________________________________________________\n",
      "activation_5 (Activation)    (None, 4)                 0         \n",
      "=================================================================\n",
      "Total params: 12,548\n",
      "Trainable params: 12,548\n",
      "Non-trainable params: 0\n",
      "_________________________________________________________________\n",
      "Train on 97999 samples, validate on 2000 samples\n",
      "Epoch 1/5\n",
      "97999/97999 [==============================] - 48s 492us/step - loss: 2.4799 - acc: 0.5299 - val_loss: 1.9268 - val_acc: 0.5190\n",
      "Epoch 2/5\n",
      "97999/97999 [==============================] - 43s 439us/step - loss: 1.6352 - acc: 0.5703 - val_loss: 1.7196 - val_acc: 0.5470\n",
      "Epoch 3/5\n",
      "97999/97999 [==============================] - 48s 488us/step - loss: 1.8387 - acc: 0.5694 - val_loss: 1.8860 - val_acc: 0.5905\n",
      "Epoch 4/5\n",
      "97999/97999 [==============================] - 46s 469us/step - loss: 1.6097 - acc: 0.5789 - val_loss: 1.6701 - val_acc: 0.5725\n",
      "Epoch 5/5\n",
      "97999/97999 [==============================] - 48s 489us/step - loss: 1.5817 - acc: 0.5939 - val_loss: 1.7571 - val_acc: 0.5725\n"
     ]
    },
    {
     "data": {
      "text/plain": [
       "<keras.callbacks.History at 0x7fd1eaff4748>"
      ]
     },
     "execution_count": 14,
     "metadata": {},
     "output_type": "execute_result"
    }
   ],
   "source": [
    "model.compile(optimizer='adam', loss='categorical_crossentropy', metrics=['accuracy'])\n",
    "model.summary()\n",
    "model.fit(X_train,Y_train,batch_size=32, epochs=5, verbose=1, validation_split=0.02)"
   ]
  },
  {
   "cell_type": "code",
   "execution_count": null,
   "metadata": {
    "_cell_guid": "42bde5d3-cebc-4157-a289-0e4917f8dcec",
    "_uuid": "e48ac304da5b9bfedfa2a078aa8105e6a7726915",
    "collapsed": true
   },
   "outputs": [],
   "source": []
  }
 ],
 "metadata": {
  "kernelspec": {
   "display_name": "Python 3",
   "language": "python",
   "name": "python3"
  },
  "language_info": {
   "codemirror_mode": {
    "name": "ipython",
    "version": 3
   },
   "file_extension": ".py",
   "mimetype": "text/x-python",
   "name": "python",
   "nbconvert_exporter": "python",
   "pygments_lexer": "ipython3",
   "version": "3.6.3"
  }
 },
 "nbformat": 4,
 "nbformat_minor": 1
}
